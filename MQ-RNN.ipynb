{
 "cells": [
  {
   "cell_type": "markdown",
   "metadata": {},
   "source": [
    "# A Multi-Horizon Quantile Recurrent Forecaster"
   ]
  },
  {
   "cell_type": "markdown",
   "metadata": {},
   "source": [
    "This is a prototype implementation of the *Multi-Horizon Quantile Recurrent Forecaster* with the following novelties:\n",
    "- *quantile loss* vs *likelihood*\n",
    "- *forking-* vs *cutting-sequences*\n",
    "- *multi-horizon* vs *recursive*"
   ]
  },
  {
   "cell_type": "markdown",
   "metadata": {},
   "source": [
    "---"
   ]
  },
  {
   "cell_type": "markdown",
   "metadata": {},
   "source": [
    "## Coding"
   ]
  },
  {
   "cell_type": "markdown",
   "metadata": {},
   "source": [
    "Imports:"
   ]
  },
  {
   "cell_type": "code",
   "execution_count": 1,
   "metadata": {},
   "outputs": [],
   "source": [
    "# PyTorch imports\n",
    "import torch\n",
    "import torch.nn.functional as F\n",
    "from torch import nn\n",
    "from torch.utils.data import DataLoader, Dataset\n",
    "\n",
    "# PyTorch Lightning imports\n",
    "import pytorch_lightning as pl"
   ]
  },
  {
   "cell_type": "markdown",
   "metadata": {},
   "source": [
    "---"
   ]
  },
  {
   "cell_type": "markdown",
   "metadata": {},
   "source": [
    "### Model"
   ]
  },
  {
   "cell_type": "markdown",
   "metadata": {},
   "source": [
    "##### Encoder:\n",
    "* a standard LSTM."
   ]
  },
  {
   "cell_type": "markdown",
   "metadata": {},
   "source": [
    "##### Decoder:\n",
    "* Global MLP: $ (c_{t+1},...,c_{t+K},c_a) = m_G(h_t,x_{t+1}^{(f)},...,x_{t+K}^{(f)}) $\n",
    "* Local MLP: $ (\\hat{y}_{t+1}^{q_1},...,\\hat{y}_{t+1}^{q_Q};...;\\hat{y}_{t+K}^{q_1},...,\\hat{y}_{t+K}^{q_Q}) = m_L(c_{t+1},c_a,x_{t+1}^{(f)};...;c_{t+K},c_a,x_{t+K}^{(f)}) $\n",
    "\n",
    "*K* is the forecast length."
   ]
  },
  {
   "cell_type": "code",
   "execution_count": 2,
   "metadata": {},
   "outputs": [],
   "source": [
    "class Encoder(pl.LightningModule):\n",
    "    \"\"\"Encoder network for MQ-RNN forecast model.\"\"\"\n",
    "   \n",
    "    def __init__(self, hist_len=168, fct_len=24, input_size=4, num_layers=1, hidden_units=8):\n",
    "        super().__init__()\n",
    "        self.hist_len = hist_len\n",
    "        self.fct_len = fct_len\n",
    "        self.input_size = input_size\n",
    "        self.num_layers = num_layers\n",
    "        self.hidden_units = hidden_units\n",
    "    \n",
    "        self.encoder = nn.LSTM(input_size=self.input_size + 1,\n",
    "                               hidden_size=self.hidden_units,\n",
    "                               num_layers=self.num_layers,\n",
    "                               batch_first=True)\n",
    "\n",
    "    def forward(self, x, y):\n",
    "        \"\"\"\n",
    "        Args:\n",
    "        - x: (batch_size, hist_len, num_features)\n",
    "        - y: (batch_size, hist_len)\n",
    "        \n",
    "        Returns:\n",
    "        - hidden state: (batch_size, hidden_size)\n",
    "        \"\"\"\n",
    "        y = y.unsqueeze(2)\n",
    "        xy = torch.cat((x, y), dim=2)\n",
    "        output, (henc, cenc) = self.encoder(xy)\n",
    "        return henc[0]"
   ]
  },
  {
   "cell_type": "code",
   "execution_count": 3,
   "metadata": {},
   "outputs": [],
   "source": [
    "class Decoder(pl.LightningModule):\n",
    "    \"\"\"Decoder network for MQ-RNN forecast model.\"\"\"\n",
    "   \n",
    "    def __init__(self, hist_len=168, fct_len=24, input_size=4, hidden_units=8, num_quantiles=3):\n",
    "        super().__init__()\n",
    "        self.hist_len = hist_len\n",
    "        self.fct_len = fct_len\n",
    "        self.input_size = input_size\n",
    "        self.hidden_units = hidden_units\n",
    "        self.num_quantiles = num_quantiles\n",
    "\n",
    "        self.decoder_global = nn.Linear(in_features=(self.hidden_units + self.input_size) * self.fct_len,\n",
    "                                        out_features=self.hidden_units * (self.fct_len + 1))\n",
    "        self.decoder_local = nn.Linear(in_features=self.hidden_units * 2 + input_size,\n",
    "                                       out_features=self.num_quantiles)\n",
    "\n",
    "    def forward(self, h_t, x_f):\n",
    "        \"\"\"\n",
    "        Args:\n",
    "        - h_t: (batch_size, hidden_size, num_features)\n",
    "        - x_f: (batch_size, fct_len, num_features)\n",
    "        \n",
    "        Returns:\n",
    "        - predictions: (batch_size, fct_len, num_quantiles)\n",
    "        \"\"\"\n",
    "        h_t = h_t.unsqueeze(1)\n",
    "        h_t = h_t.expand(h_t.shape[0], self.fct_len, h_t.shape[2])\n",
    "        hx = torch.cat((h_t, x_f), dim=2)\n",
    "        hx = hx.view(x_f.shape[0], -1)\n",
    "\n",
    "        c = self.decoder_global(hx)\n",
    "        c = c.view(c.shape[0], self.fct_len + 1, -1)\n",
    "        c_t = c[:,:-1]\n",
    "        c_a = c[:, -1]\n",
    "        \n",
    "        preds = torch.zeros((h_t.shape[0], self.fct_len, self.num_quantiles), device=self.device)\n",
    "        for k in range(self.fct_len):\n",
    "            c_tk = c_t[:,k]\n",
    "            x_fk = x_f[:,k]\n",
    "            cx = torch.cat((c_tk, c_a, x_fk), dim=1)\n",
    "\n",
    "            pred = self.decoder_local(cx)\n",
    "            preds[:,k] = pred\n",
    "        \n",
    "        return preds"
   ]
  },
  {
   "cell_type": "code",
   "execution_count": 4,
   "metadata": {},
   "outputs": [],
   "source": [
    "class MQRNN(pl.LightningModule):\n",
    "    \"\"\"MQ-RNN model\"\"\"\n",
    "   \n",
    "    def __init__(self, hist_len=168, fct_len=24, input_size=4, num_layers=1, hidden_units=8, quantiles=[0.1, 0.5, 0.9], lr=1e-3):\n",
    "        super().__init__()\n",
    "\n",
    "        self.hist_len = hist_len\n",
    "        self.fct_len = fct_len\n",
    "        self.input_size = input_size\n",
    "        self.num_layers = num_layers\n",
    "        self.hidden_units = hidden_units\n",
    "        self.quantiles = quantiles\n",
    "        self.lr = lr\n",
    "\n",
    "        self.encoder = Encoder(hist_len=self.hist_len,\n",
    "                               fct_len=self.fct_len,\n",
    "                               input_size=self.input_size,\n",
    "                               num_layers=self.num_layers,\n",
    "                               hidden_units=self.hidden_units)\n",
    "\n",
    "        self.decoder = Decoder(hist_len=self.hist_len,\n",
    "                               fct_len=self.fct_len,\n",
    "                               input_size=self.input_size,\n",
    "                               hidden_units=self.hidden_units,\n",
    "                               num_quantiles=len(self.quantiles))\n",
    "\n",
    "    def forward(self, x, y, x_f):\n",
    "        ht = self.encoder(x, y)\n",
    "        preds = self.decoder(ht, x_f)\n",
    "        return preds\n",
    "\n",
    "    def training_step(self, batch, batch_idx):\n",
    "        x, y, x_f, y_f = batch\n",
    "        preds = self(x, y, x_f)\n",
    "\n",
    "        return self.loss(preds, y_f)\n",
    "\n",
    "    def validation_step(self, batch, batch_idx):\n",
    "        x, y, x_f, y_f = batch\n",
    "        preds = self(x, y, x_f)\n",
    "\n",
    "        loss = self.loss(preds, y_f)\n",
    "        self.log('val_logprob', loss, prog_bar=True)\n",
    "        return loss\n",
    "\n",
    "    def configure_optimizers(self):\n",
    "        optimizer = torch.optim.Adam(self.parameters(), lr=self.lr)\n",
    "        return optimizer\n",
    "\n",
    "    def loss(self, preds, y):\n",
    "        loss = 0\n",
    "        z = torch.zeros_like(y)\n",
    "        \n",
    "        for i, q in enumerate(self.quantiles):\n",
    "            pred = preds[:,:,i]\n",
    "            dif = y - pred\n",
    "            loss += q * torch.maximum(z, dif) + (1 - q) * torch.maximum(z, -dif)\n",
    "        \n",
    "        return loss.mean()"
   ]
  },
  {
   "cell_type": "markdown",
   "metadata": {},
   "source": [
    "---"
   ]
  },
  {
   "cell_type": "markdown",
   "metadata": {},
   "source": [
    "### Application"
   ]
  },
  {
   "cell_type": "markdown",
   "metadata": {},
   "source": [
    "As depicted in the paper, we use the following datasets to experiment with the model:\n",
    "- predict future demand of items sold on Amazon.com\n",
    "- predict electricity price and load in a public probabilistic forecasting competition"
   ]
  },
  {
   "cell_type": "code",
   "execution_count": 5,
   "metadata": {},
   "outputs": [],
   "source": [
    "import matplotlib.pyplot as plt"
   ]
  },
  {
   "cell_type": "code",
   "execution_count": 6,
   "metadata": {},
   "outputs": [
    {
     "name": "stdout",
     "output_type": "stream",
     "text": [
      "Populating the interactive namespace from numpy and matplotlib\n"
     ]
    }
   ],
   "source": [
    "%pylab inline\n",
    "plt.style.use('bmh')\n",
    "plt.rcParams['figure.figsize'] = (6,6)"
   ]
  },
  {
   "cell_type": "code",
   "execution_count": 7,
   "metadata": {},
   "outputs": [],
   "source": [
    "import pathlib"
   ]
  },
  {
   "cell_type": "code",
   "execution_count": 8,
   "metadata": {},
   "outputs": [],
   "source": [
    "import numpy as np\n",
    "import pandas as pd"
   ]
  },
  {
   "cell_type": "code",
   "execution_count": 9,
   "metadata": {},
   "outputs": [],
   "source": [
    "DATA_DIR = pathlib.Path('data')"
   ]
  },
  {
   "cell_type": "markdown",
   "metadata": {},
   "source": [
    "---"
   ]
  },
  {
   "cell_type": "markdown",
   "metadata": {},
   "source": [
    "### Amazon.com"
   ]
  },
  {
   "cell_type": "markdown",
   "metadata": {},
   "source": [
    "Characteristics:\n",
    "- weekly demand series of around 60K sampled products from different categories within the US marketplace gathered from 2012 to 2017.  \n",
    "- data before 2016 is used to train the model, multi-horizon forecasts are created at each of the 52 weeks in 2016.\n",
    "- forecats horizons range from 1 to 52 weeks\n",
    "\n",
    "Covariates:\n",
    "- past demand (history only)\n",
    "- promotions (history and future)\n",
    "- product catalog fields (static)\n",
    "\n",
    "Training:\n",
    "- quantiles are estimated for $ q \\in \\{0.1, 0.5, 0.9\\} $ (P10, P50 and P90 forecasts)"
   ]
  },
  {
   "cell_type": "code",
   "execution_count": null,
   "metadata": {},
   "outputs": [],
   "source": []
  },
  {
   "cell_type": "markdown",
   "metadata": {},
   "source": [
    "##### Training"
   ]
  },
  {
   "cell_type": "code",
   "execution_count": null,
   "metadata": {},
   "outputs": [],
   "source": []
  },
  {
   "cell_type": "markdown",
   "metadata": {},
   "source": [
    "----"
   ]
  },
  {
   "cell_type": "markdown",
   "metadata": {},
   "source": [
    "### GEFCom2014"
   ]
  },
  {
   "cell_type": "markdown",
   "metadata": {},
   "source": [
    "2 problems were chosen: electricity load prediction and electricity price prediction.\n",
    "\n",
    "Characteristics:\n",
    "- the quantity to forecast is a single series of hour-grain price or load from several years\n",
    "\n",
    "Covariates:\n",
    "- there is no static series-related information\n",
    "\n",
    "Training:\n",
    "- there are 12 different forecast creation times (FCTs), for each one we use data prior the date for training, and then retrain from scratch for each subsequent forecast creation time\n",
    "- quantiles are estimated for $ q \\in \\{0.01, 0.25, 0.5, 0.75, 0.99\\} $, linear interpolation is used to produce the full set of 99 quantiles\n",
    "- the competing metric for is a sum of quantile losses over 99 percentiles of the predicted distributions, and the average loss over the 12 forecast dates is the final evaluation criterion"
   ]
  },
  {
   "cell_type": "code",
   "execution_count": null,
   "metadata": {},
   "outputs": [],
   "source": []
  },
  {
   "cell_type": "markdown",
   "metadata": {},
   "source": [
    "##### Electricity Price"
   ]
  },
  {
   "cell_type": "markdown",
   "metadata": {},
   "source": [
    "Problem:\n",
    "- forecast hourly price distributions for a 24-hour horizon (24 × 99 quantile forecasts) of a particular zone\n",
    "\n",
    "Covariates:\n",
    "- past & future - zonal and total load forecasts for the horizon\n",
    "\n",
    "Features:\n",
    "- calendar-based features about the day of year and hour in a day, as well as weekday and US holiday indicators"
   ]
  },
  {
   "cell_type": "markdown",
   "metadata": {},
   "source": [
    "Hyperparameters:\n",
    "- history length - 168 hours (1 week)\n",
    "- hidden unit size - 30"
   ]
  },
  {
   "cell_type": "code",
   "execution_count": null,
   "metadata": {},
   "outputs": [],
   "source": []
  },
  {
   "cell_type": "markdown",
   "metadata": {},
   "source": [
    "##### Training"
   ]
  },
  {
   "cell_type": "code",
   "execution_count": null,
   "metadata": {},
   "outputs": [],
   "source": []
  },
  {
   "cell_type": "markdown",
   "metadata": {},
   "source": [
    "##### Electricity Load"
   ]
  },
  {
   "cell_type": "markdown",
   "metadata": {},
   "source": [
    "Problem:\n",
    "- forecast hourly load distributions of a certain US utility for a month into the future (24 × 31 × 99 quantile forecasts)\n",
    "\n",
    "Covariates:\n",
    "- past - weather, temperature measurements of 25 weather stations\n",
    "\n",
    "Features:\n",
    "- calendar-based features"
   ]
  },
  {
   "cell_type": "markdown",
   "metadata": {},
   "source": [
    "Hyperparameters:\n",
    "- history length - 56 days (2 months)\n",
    "- hidden unit size - 30"
   ]
  },
  {
   "cell_type": "markdown",
   "metadata": {},
   "source": [
    "----"
   ]
  },
  {
   "cell_type": "markdown",
   "metadata": {},
   "source": [
    "We'll start off with some EDA:"
   ]
  },
  {
   "cell_type": "code",
   "execution_count": 10,
   "metadata": {},
   "outputs": [],
   "source": [
    "from datetime import datetime"
   ]
  },
  {
   "cell_type": "code",
   "execution_count": 11,
   "metadata": {},
   "outputs": [],
   "source": [
    "date_parser = lambda date: datetime.strptime(date, '%m%d%Y %H:%M')"
   ]
  },
  {
   "cell_type": "code",
   "execution_count": 12,
   "metadata": {},
   "outputs": [],
   "source": [
    "TASK = 1"
   ]
  },
  {
   "cell_type": "code",
   "execution_count": 13,
   "metadata": {},
   "outputs": [],
   "source": [
    "path = DATA_DIR.joinpath(f'Load/Task {TASK}/L{TASK}-train.csv')\n",
    "df = pd.read_csv(path, parse_dates=['TIMESTAMP'], index_col='TIMESTAMP', date_parser=date_parser)"
   ]
  },
  {
   "cell_type": "code",
   "execution_count": 14,
   "metadata": {},
   "outputs": [
    {
     "data": {
      "text/plain": [
       "(85440, 27)"
      ]
     },
     "execution_count": 14,
     "metadata": {},
     "output_type": "execute_result"
    }
   ],
   "source": [
    "df.shape"
   ]
  },
  {
   "cell_type": "code",
   "execution_count": 15,
   "metadata": {},
   "outputs": [
    {
     "data": {
      "text/plain": [
       "ZONEID        0\n",
       "LOAD      35064\n",
       "w1            0\n",
       "w2            0\n",
       "w3            0\n",
       "w4            0\n",
       "w5            0\n",
       "w6            0\n",
       "w7            0\n",
       "w8            0\n",
       "w9            0\n",
       "w10           0\n",
       "w11           0\n",
       "w12           0\n",
       "w13           0\n",
       "w14           0\n",
       "w15           0\n",
       "w16           0\n",
       "w17           0\n",
       "w18           0\n",
       "w19           0\n",
       "w20           0\n",
       "w21           0\n",
       "w22           0\n",
       "w23           0\n",
       "w24           0\n",
       "w25           0\n",
       "dtype: int64"
      ]
     },
     "execution_count": 15,
     "metadata": {},
     "output_type": "execute_result"
    }
   ],
   "source": [
    "sum(df.isnull())"
   ]
  },
  {
   "cell_type": "code",
   "execution_count": 16,
   "metadata": {},
   "outputs": [
    {
     "data": {
      "text/plain": [
       "(False, False)"
      ]
     },
     "execution_count": 16,
     "metadata": {},
     "output_type": "execute_result"
    }
   ],
   "source": [
    "df.index.is_monotonic, df.index.is_unique"
   ]
  },
  {
   "cell_type": "code",
   "execution_count": 17,
   "metadata": {},
   "outputs": [
    {
     "data": {
      "text/plain": [
       "(85440, 27)"
      ]
     },
     "execution_count": 17,
     "metadata": {},
     "output_type": "execute_result"
    }
   ],
   "source": [
    "df = df.sort_index()\n",
    "df.shape"
   ]
  },
  {
   "cell_type": "code",
   "execution_count": 18,
   "metadata": {},
   "outputs": [
    {
     "data": {
      "text/html": [
       "<div>\n",
       "<style scoped>\n",
       "    .dataframe tbody tr th:only-of-type {\n",
       "        vertical-align: middle;\n",
       "    }\n",
       "\n",
       "    .dataframe tbody tr th {\n",
       "        vertical-align: top;\n",
       "    }\n",
       "\n",
       "    .dataframe thead th {\n",
       "        text-align: right;\n",
       "    }\n",
       "</style>\n",
       "<table border=\"1\" class=\"dataframe\">\n",
       "  <thead>\n",
       "    <tr style=\"text-align: right;\">\n",
       "      <th></th>\n",
       "      <th>ZONEID</th>\n",
       "      <th>LOAD</th>\n",
       "      <th>w1</th>\n",
       "      <th>w2</th>\n",
       "      <th>w3</th>\n",
       "      <th>w4</th>\n",
       "      <th>w5</th>\n",
       "      <th>w6</th>\n",
       "      <th>w7</th>\n",
       "      <th>w8</th>\n",
       "      <th>...</th>\n",
       "      <th>w16</th>\n",
       "      <th>w17</th>\n",
       "      <th>w18</th>\n",
       "      <th>w19</th>\n",
       "      <th>w20</th>\n",
       "      <th>w21</th>\n",
       "      <th>w22</th>\n",
       "      <th>w23</th>\n",
       "      <th>w24</th>\n",
       "      <th>w25</th>\n",
       "    </tr>\n",
       "    <tr>\n",
       "      <th>TIMESTAMP</th>\n",
       "      <th></th>\n",
       "      <th></th>\n",
       "      <th></th>\n",
       "      <th></th>\n",
       "      <th></th>\n",
       "      <th></th>\n",
       "      <th></th>\n",
       "      <th></th>\n",
       "      <th></th>\n",
       "      <th></th>\n",
       "      <th></th>\n",
       "      <th></th>\n",
       "      <th></th>\n",
       "      <th></th>\n",
       "      <th></th>\n",
       "      <th></th>\n",
       "      <th></th>\n",
       "      <th></th>\n",
       "      <th></th>\n",
       "      <th></th>\n",
       "      <th></th>\n",
       "    </tr>\n",
       "  </thead>\n",
       "  <tbody>\n",
       "    <tr>\n",
       "      <th>2001-01-01 01:00:00</th>\n",
       "      <td>1</td>\n",
       "      <td>NaN</td>\n",
       "      <td>27</td>\n",
       "      <td>28</td>\n",
       "      <td>18</td>\n",
       "      <td>23</td>\n",
       "      <td>25</td>\n",
       "      <td>27</td>\n",
       "      <td>26</td>\n",
       "      <td>26</td>\n",
       "      <td>...</td>\n",
       "      <td>25</td>\n",
       "      <td>23</td>\n",
       "      <td>25</td>\n",
       "      <td>27</td>\n",
       "      <td>27</td>\n",
       "      <td>29</td>\n",
       "      <td>30</td>\n",
       "      <td>25</td>\n",
       "      <td>26</td>\n",
       "      <td>27</td>\n",
       "    </tr>\n",
       "    <tr>\n",
       "      <th>2001-01-01 02:00:00</th>\n",
       "      <td>1</td>\n",
       "      <td>NaN</td>\n",
       "      <td>25</td>\n",
       "      <td>28</td>\n",
       "      <td>18</td>\n",
       "      <td>23</td>\n",
       "      <td>24</td>\n",
       "      <td>24</td>\n",
       "      <td>26</td>\n",
       "      <td>24</td>\n",
       "      <td>...</td>\n",
       "      <td>25</td>\n",
       "      <td>23</td>\n",
       "      <td>25</td>\n",
       "      <td>27</td>\n",
       "      <td>23</td>\n",
       "      <td>28</td>\n",
       "      <td>30</td>\n",
       "      <td>24</td>\n",
       "      <td>22</td>\n",
       "      <td>27</td>\n",
       "    </tr>\n",
       "    <tr>\n",
       "      <th>2001-01-01 03:00:00</th>\n",
       "      <td>1</td>\n",
       "      <td>NaN</td>\n",
       "      <td>27</td>\n",
       "      <td>23</td>\n",
       "      <td>18</td>\n",
       "      <td>24</td>\n",
       "      <td>23</td>\n",
       "      <td>24</td>\n",
       "      <td>23</td>\n",
       "      <td>23</td>\n",
       "      <td>...</td>\n",
       "      <td>26</td>\n",
       "      <td>24</td>\n",
       "      <td>21</td>\n",
       "      <td>27</td>\n",
       "      <td>25</td>\n",
       "      <td>29</td>\n",
       "      <td>28</td>\n",
       "      <td>24</td>\n",
       "      <td>23</td>\n",
       "      <td>25</td>\n",
       "    </tr>\n",
       "    <tr>\n",
       "      <th>2001-01-01 04:00:00</th>\n",
       "      <td>1</td>\n",
       "      <td>NaN</td>\n",
       "      <td>25</td>\n",
       "      <td>21</td>\n",
       "      <td>19</td>\n",
       "      <td>24</td>\n",
       "      <td>23</td>\n",
       "      <td>24</td>\n",
       "      <td>22</td>\n",
       "      <td>23</td>\n",
       "      <td>...</td>\n",
       "      <td>25</td>\n",
       "      <td>24</td>\n",
       "      <td>21</td>\n",
       "      <td>27</td>\n",
       "      <td>23</td>\n",
       "      <td>27</td>\n",
       "      <td>28</td>\n",
       "      <td>23</td>\n",
       "      <td>26</td>\n",
       "      <td>25</td>\n",
       "    </tr>\n",
       "    <tr>\n",
       "      <th>2001-01-01 05:00:00</th>\n",
       "      <td>1</td>\n",
       "      <td>NaN</td>\n",
       "      <td>27</td>\n",
       "      <td>21</td>\n",
       "      <td>19</td>\n",
       "      <td>22</td>\n",
       "      <td>23</td>\n",
       "      <td>24</td>\n",
       "      <td>22</td>\n",
       "      <td>22</td>\n",
       "      <td>...</td>\n",
       "      <td>27</td>\n",
       "      <td>22</td>\n",
       "      <td>21</td>\n",
       "      <td>27</td>\n",
       "      <td>25</td>\n",
       "      <td>27</td>\n",
       "      <td>28</td>\n",
       "      <td>23</td>\n",
       "      <td>25</td>\n",
       "      <td>27</td>\n",
       "    </tr>\n",
       "    <tr>\n",
       "      <th>...</th>\n",
       "      <td>...</td>\n",
       "      <td>...</td>\n",
       "      <td>...</td>\n",
       "      <td>...</td>\n",
       "      <td>...</td>\n",
       "      <td>...</td>\n",
       "      <td>...</td>\n",
       "      <td>...</td>\n",
       "      <td>...</td>\n",
       "      <td>...</td>\n",
       "      <td>...</td>\n",
       "      <td>...</td>\n",
       "      <td>...</td>\n",
       "      <td>...</td>\n",
       "      <td>...</td>\n",
       "      <td>...</td>\n",
       "      <td>...</td>\n",
       "      <td>...</td>\n",
       "      <td>...</td>\n",
       "      <td>...</td>\n",
       "      <td>...</td>\n",
       "    </tr>\n",
       "    <tr>\n",
       "      <th>2010-12-09 19:00:00</th>\n",
       "      <td>1</td>\n",
       "      <td>219.9</td>\n",
       "      <td>36</td>\n",
       "      <td>36</td>\n",
       "      <td>30</td>\n",
       "      <td>33</td>\n",
       "      <td>42</td>\n",
       "      <td>33</td>\n",
       "      <td>36</td>\n",
       "      <td>40</td>\n",
       "      <td>...</td>\n",
       "      <td>41</td>\n",
       "      <td>32</td>\n",
       "      <td>38</td>\n",
       "      <td>34</td>\n",
       "      <td>38</td>\n",
       "      <td>32</td>\n",
       "      <td>33</td>\n",
       "      <td>37</td>\n",
       "      <td>35</td>\n",
       "      <td>35</td>\n",
       "    </tr>\n",
       "    <tr>\n",
       "      <th>2010-12-09 20:00:00</th>\n",
       "      <td>1</td>\n",
       "      <td>222.3</td>\n",
       "      <td>35</td>\n",
       "      <td>36</td>\n",
       "      <td>28</td>\n",
       "      <td>32</td>\n",
       "      <td>41</td>\n",
       "      <td>32</td>\n",
       "      <td>36</td>\n",
       "      <td>39</td>\n",
       "      <td>...</td>\n",
       "      <td>40</td>\n",
       "      <td>31</td>\n",
       "      <td>37</td>\n",
       "      <td>30</td>\n",
       "      <td>38</td>\n",
       "      <td>31</td>\n",
       "      <td>32</td>\n",
       "      <td>37</td>\n",
       "      <td>29</td>\n",
       "      <td>34</td>\n",
       "    </tr>\n",
       "    <tr>\n",
       "      <th>2010-12-09 21:00:00</th>\n",
       "      <td>1</td>\n",
       "      <td>223.1</td>\n",
       "      <td>35</td>\n",
       "      <td>36</td>\n",
       "      <td>29</td>\n",
       "      <td>32</td>\n",
       "      <td>40</td>\n",
       "      <td>32</td>\n",
       "      <td>35</td>\n",
       "      <td>38</td>\n",
       "      <td>...</td>\n",
       "      <td>39</td>\n",
       "      <td>38</td>\n",
       "      <td>36</td>\n",
       "      <td>30</td>\n",
       "      <td>37</td>\n",
       "      <td>31</td>\n",
       "      <td>30</td>\n",
       "      <td>36</td>\n",
       "      <td>29</td>\n",
       "      <td>29</td>\n",
       "    </tr>\n",
       "    <tr>\n",
       "      <th>2010-12-09 22:00:00</th>\n",
       "      <td>1</td>\n",
       "      <td>221.8</td>\n",
       "      <td>35</td>\n",
       "      <td>36</td>\n",
       "      <td>28</td>\n",
       "      <td>32</td>\n",
       "      <td>39</td>\n",
       "      <td>33</td>\n",
       "      <td>34</td>\n",
       "      <td>38</td>\n",
       "      <td>...</td>\n",
       "      <td>38</td>\n",
       "      <td>39</td>\n",
       "      <td>36</td>\n",
       "      <td>30</td>\n",
       "      <td>36</td>\n",
       "      <td>31</td>\n",
       "      <td>29</td>\n",
       "      <td>36</td>\n",
       "      <td>29</td>\n",
       "      <td>29</td>\n",
       "    </tr>\n",
       "    <tr>\n",
       "      <th>2010-12-09 23:00:00</th>\n",
       "      <td>1</td>\n",
       "      <td>214.5</td>\n",
       "      <td>34</td>\n",
       "      <td>32</td>\n",
       "      <td>28</td>\n",
       "      <td>32</td>\n",
       "      <td>39</td>\n",
       "      <td>33</td>\n",
       "      <td>33</td>\n",
       "      <td>36</td>\n",
       "      <td>...</td>\n",
       "      <td>37</td>\n",
       "      <td>38</td>\n",
       "      <td>35</td>\n",
       "      <td>30</td>\n",
       "      <td>34</td>\n",
       "      <td>30</td>\n",
       "      <td>28</td>\n",
       "      <td>32</td>\n",
       "      <td>29</td>\n",
       "      <td>28</td>\n",
       "    </tr>\n",
       "  </tbody>\n",
       "</table>\n",
       "<p>85440 rows × 27 columns</p>\n",
       "</div>"
      ],
      "text/plain": [
       "                     ZONEID   LOAD  w1  w2  w3  w4  w5  w6  w7  w8  ...  w16  \\\n",
       "TIMESTAMP                                                           ...        \n",
       "2001-01-01 01:00:00       1    NaN  27  28  18  23  25  27  26  26  ...   25   \n",
       "2001-01-01 02:00:00       1    NaN  25  28  18  23  24  24  26  24  ...   25   \n",
       "2001-01-01 03:00:00       1    NaN  27  23  18  24  23  24  23  23  ...   26   \n",
       "2001-01-01 04:00:00       1    NaN  25  21  19  24  23  24  22  23  ...   25   \n",
       "2001-01-01 05:00:00       1    NaN  27  21  19  22  23  24  22  22  ...   27   \n",
       "...                     ...    ...  ..  ..  ..  ..  ..  ..  ..  ..  ...  ...   \n",
       "2010-12-09 19:00:00       1  219.9  36  36  30  33  42  33  36  40  ...   41   \n",
       "2010-12-09 20:00:00       1  222.3  35  36  28  32  41  32  36  39  ...   40   \n",
       "2010-12-09 21:00:00       1  223.1  35  36  29  32  40  32  35  38  ...   39   \n",
       "2010-12-09 22:00:00       1  221.8  35  36  28  32  39  33  34  38  ...   38   \n",
       "2010-12-09 23:00:00       1  214.5  34  32  28  32  39  33  33  36  ...   37   \n",
       "\n",
       "                     w17  w18  w19  w20  w21  w22  w23  w24  w25  \n",
       "TIMESTAMP                                                         \n",
       "2001-01-01 01:00:00   23   25   27   27   29   30   25   26   27  \n",
       "2001-01-01 02:00:00   23   25   27   23   28   30   24   22   27  \n",
       "2001-01-01 03:00:00   24   21   27   25   29   28   24   23   25  \n",
       "2001-01-01 04:00:00   24   21   27   23   27   28   23   26   25  \n",
       "2001-01-01 05:00:00   22   21   27   25   27   28   23   25   27  \n",
       "...                  ...  ...  ...  ...  ...  ...  ...  ...  ...  \n",
       "2010-12-09 19:00:00   32   38   34   38   32   33   37   35   35  \n",
       "2010-12-09 20:00:00   31   37   30   38   31   32   37   29   34  \n",
       "2010-12-09 21:00:00   38   36   30   37   31   30   36   29   29  \n",
       "2010-12-09 22:00:00   39   36   30   36   31   29   36   29   29  \n",
       "2010-12-09 23:00:00   38   35   30   34   30   28   32   29   28  \n",
       "\n",
       "[85440 rows x 27 columns]"
      ]
     },
     "execution_count": 18,
     "metadata": {},
     "output_type": "execute_result"
    }
   ],
   "source": [
    "df"
   ]
  },
  {
   "cell_type": "code",
   "execution_count": 19,
   "metadata": {},
   "outputs": [
    {
     "data": {
      "text/html": [
       "<div>\n",
       "<style scoped>\n",
       "    .dataframe tbody tr th:only-of-type {\n",
       "        vertical-align: middle;\n",
       "    }\n",
       "\n",
       "    .dataframe tbody tr th {\n",
       "        vertical-align: top;\n",
       "    }\n",
       "\n",
       "    .dataframe thead th {\n",
       "        text-align: right;\n",
       "    }\n",
       "</style>\n",
       "<table border=\"1\" class=\"dataframe\">\n",
       "  <thead>\n",
       "    <tr style=\"text-align: right;\">\n",
       "      <th></th>\n",
       "      <th>ZONEID</th>\n",
       "      <th>LOAD</th>\n",
       "      <th>w1</th>\n",
       "      <th>w2</th>\n",
       "      <th>w3</th>\n",
       "      <th>w4</th>\n",
       "      <th>w5</th>\n",
       "      <th>w6</th>\n",
       "      <th>w7</th>\n",
       "      <th>w8</th>\n",
       "      <th>...</th>\n",
       "      <th>w16</th>\n",
       "      <th>w17</th>\n",
       "      <th>w18</th>\n",
       "      <th>w19</th>\n",
       "      <th>w20</th>\n",
       "      <th>w21</th>\n",
       "      <th>w22</th>\n",
       "      <th>w23</th>\n",
       "      <th>w24</th>\n",
       "      <th>w25</th>\n",
       "    </tr>\n",
       "    <tr>\n",
       "      <th>TIMESTAMP</th>\n",
       "      <th></th>\n",
       "      <th></th>\n",
       "      <th></th>\n",
       "      <th></th>\n",
       "      <th></th>\n",
       "      <th></th>\n",
       "      <th></th>\n",
       "      <th></th>\n",
       "      <th></th>\n",
       "      <th></th>\n",
       "      <th></th>\n",
       "      <th></th>\n",
       "      <th></th>\n",
       "      <th></th>\n",
       "      <th></th>\n",
       "      <th></th>\n",
       "      <th></th>\n",
       "      <th></th>\n",
       "      <th></th>\n",
       "      <th></th>\n",
       "      <th></th>\n",
       "    </tr>\n",
       "  </thead>\n",
       "  <tbody>\n",
       "    <tr>\n",
       "      <th>2001-01-01 01:00:00</th>\n",
       "      <td>1</td>\n",
       "      <td>NaN</td>\n",
       "      <td>27</td>\n",
       "      <td>28</td>\n",
       "      <td>18</td>\n",
       "      <td>23</td>\n",
       "      <td>25</td>\n",
       "      <td>27</td>\n",
       "      <td>26</td>\n",
       "      <td>26</td>\n",
       "      <td>...</td>\n",
       "      <td>25</td>\n",
       "      <td>23</td>\n",
       "      <td>25</td>\n",
       "      <td>27</td>\n",
       "      <td>27</td>\n",
       "      <td>29</td>\n",
       "      <td>30</td>\n",
       "      <td>25</td>\n",
       "      <td>26</td>\n",
       "      <td>27</td>\n",
       "    </tr>\n",
       "    <tr>\n",
       "      <th>2001-01-01 02:00:00</th>\n",
       "      <td>1</td>\n",
       "      <td>NaN</td>\n",
       "      <td>25</td>\n",
       "      <td>28</td>\n",
       "      <td>18</td>\n",
       "      <td>23</td>\n",
       "      <td>24</td>\n",
       "      <td>24</td>\n",
       "      <td>26</td>\n",
       "      <td>24</td>\n",
       "      <td>...</td>\n",
       "      <td>25</td>\n",
       "      <td>23</td>\n",
       "      <td>25</td>\n",
       "      <td>27</td>\n",
       "      <td>23</td>\n",
       "      <td>28</td>\n",
       "      <td>30</td>\n",
       "      <td>24</td>\n",
       "      <td>22</td>\n",
       "      <td>27</td>\n",
       "    </tr>\n",
       "    <tr>\n",
       "      <th>2001-01-01 03:00:00</th>\n",
       "      <td>1</td>\n",
       "      <td>NaN</td>\n",
       "      <td>27</td>\n",
       "      <td>23</td>\n",
       "      <td>18</td>\n",
       "      <td>24</td>\n",
       "      <td>23</td>\n",
       "      <td>24</td>\n",
       "      <td>23</td>\n",
       "      <td>23</td>\n",
       "      <td>...</td>\n",
       "      <td>26</td>\n",
       "      <td>24</td>\n",
       "      <td>21</td>\n",
       "      <td>27</td>\n",
       "      <td>25</td>\n",
       "      <td>29</td>\n",
       "      <td>28</td>\n",
       "      <td>24</td>\n",
       "      <td>23</td>\n",
       "      <td>25</td>\n",
       "    </tr>\n",
       "    <tr>\n",
       "      <th>2001-01-01 04:00:00</th>\n",
       "      <td>1</td>\n",
       "      <td>NaN</td>\n",
       "      <td>25</td>\n",
       "      <td>21</td>\n",
       "      <td>19</td>\n",
       "      <td>24</td>\n",
       "      <td>23</td>\n",
       "      <td>24</td>\n",
       "      <td>22</td>\n",
       "      <td>23</td>\n",
       "      <td>...</td>\n",
       "      <td>25</td>\n",
       "      <td>24</td>\n",
       "      <td>21</td>\n",
       "      <td>27</td>\n",
       "      <td>23</td>\n",
       "      <td>27</td>\n",
       "      <td>28</td>\n",
       "      <td>23</td>\n",
       "      <td>26</td>\n",
       "      <td>25</td>\n",
       "    </tr>\n",
       "    <tr>\n",
       "      <th>2001-01-01 05:00:00</th>\n",
       "      <td>1</td>\n",
       "      <td>NaN</td>\n",
       "      <td>27</td>\n",
       "      <td>21</td>\n",
       "      <td>19</td>\n",
       "      <td>22</td>\n",
       "      <td>23</td>\n",
       "      <td>24</td>\n",
       "      <td>22</td>\n",
       "      <td>22</td>\n",
       "      <td>...</td>\n",
       "      <td>27</td>\n",
       "      <td>22</td>\n",
       "      <td>21</td>\n",
       "      <td>27</td>\n",
       "      <td>25</td>\n",
       "      <td>27</td>\n",
       "      <td>28</td>\n",
       "      <td>23</td>\n",
       "      <td>25</td>\n",
       "      <td>27</td>\n",
       "    </tr>\n",
       "    <tr>\n",
       "      <th>...</th>\n",
       "      <td>...</td>\n",
       "      <td>...</td>\n",
       "      <td>...</td>\n",
       "      <td>...</td>\n",
       "      <td>...</td>\n",
       "      <td>...</td>\n",
       "      <td>...</td>\n",
       "      <td>...</td>\n",
       "      <td>...</td>\n",
       "      <td>...</td>\n",
       "      <td>...</td>\n",
       "      <td>...</td>\n",
       "      <td>...</td>\n",
       "      <td>...</td>\n",
       "      <td>...</td>\n",
       "      <td>...</td>\n",
       "      <td>...</td>\n",
       "      <td>...</td>\n",
       "      <td>...</td>\n",
       "      <td>...</td>\n",
       "      <td>...</td>\n",
       "    </tr>\n",
       "    <tr>\n",
       "      <th>2004-12-31 21:00:00</th>\n",
       "      <td>1</td>\n",
       "      <td>NaN</td>\n",
       "      <td>49</td>\n",
       "      <td>46</td>\n",
       "      <td>47</td>\n",
       "      <td>50</td>\n",
       "      <td>54</td>\n",
       "      <td>44</td>\n",
       "      <td>51</td>\n",
       "      <td>55</td>\n",
       "      <td>...</td>\n",
       "      <td>56</td>\n",
       "      <td>50</td>\n",
       "      <td>52</td>\n",
       "      <td>48</td>\n",
       "      <td>50</td>\n",
       "      <td>48</td>\n",
       "      <td>46</td>\n",
       "      <td>47</td>\n",
       "      <td>48</td>\n",
       "      <td>38</td>\n",
       "    </tr>\n",
       "    <tr>\n",
       "      <th>2004-12-31 22:00:00</th>\n",
       "      <td>1</td>\n",
       "      <td>NaN</td>\n",
       "      <td>47</td>\n",
       "      <td>46</td>\n",
       "      <td>43</td>\n",
       "      <td>50</td>\n",
       "      <td>54</td>\n",
       "      <td>47</td>\n",
       "      <td>49</td>\n",
       "      <td>54</td>\n",
       "      <td>...</td>\n",
       "      <td>54</td>\n",
       "      <td>46</td>\n",
       "      <td>52</td>\n",
       "      <td>46</td>\n",
       "      <td>48</td>\n",
       "      <td>48</td>\n",
       "      <td>46</td>\n",
       "      <td>48</td>\n",
       "      <td>48</td>\n",
       "      <td>40</td>\n",
       "    </tr>\n",
       "    <tr>\n",
       "      <th>2004-12-31 23:00:00</th>\n",
       "      <td>1</td>\n",
       "      <td>NaN</td>\n",
       "      <td>46</td>\n",
       "      <td>46</td>\n",
       "      <td>39</td>\n",
       "      <td>49</td>\n",
       "      <td>54</td>\n",
       "      <td>47</td>\n",
       "      <td>46</td>\n",
       "      <td>54</td>\n",
       "      <td>...</td>\n",
       "      <td>53</td>\n",
       "      <td>43</td>\n",
       "      <td>50</td>\n",
       "      <td>45</td>\n",
       "      <td>46</td>\n",
       "      <td>45</td>\n",
       "      <td>45</td>\n",
       "      <td>49</td>\n",
       "      <td>47</td>\n",
       "      <td>39</td>\n",
       "    </tr>\n",
       "    <tr>\n",
       "      <th>2005-01-01 00:00:00</th>\n",
       "      <td>1</td>\n",
       "      <td>NaN</td>\n",
       "      <td>45</td>\n",
       "      <td>46</td>\n",
       "      <td>40</td>\n",
       "      <td>48</td>\n",
       "      <td>48</td>\n",
       "      <td>41</td>\n",
       "      <td>43</td>\n",
       "      <td>54</td>\n",
       "      <td>...</td>\n",
       "      <td>54</td>\n",
       "      <td>43</td>\n",
       "      <td>49</td>\n",
       "      <td>46</td>\n",
       "      <td>50</td>\n",
       "      <td>44</td>\n",
       "      <td>43</td>\n",
       "      <td>47</td>\n",
       "      <td>49</td>\n",
       "      <td>41</td>\n",
       "    </tr>\n",
       "    <tr>\n",
       "      <th>2005-01-01 01:00:00</th>\n",
       "      <td>1</td>\n",
       "      <td>125.8</td>\n",
       "      <td>43</td>\n",
       "      <td>46</td>\n",
       "      <td>40</td>\n",
       "      <td>47</td>\n",
       "      <td>48</td>\n",
       "      <td>46</td>\n",
       "      <td>44</td>\n",
       "      <td>52</td>\n",
       "      <td>...</td>\n",
       "      <td>50</td>\n",
       "      <td>39</td>\n",
       "      <td>50</td>\n",
       "      <td>45</td>\n",
       "      <td>50</td>\n",
       "      <td>47</td>\n",
       "      <td>41</td>\n",
       "      <td>47</td>\n",
       "      <td>47</td>\n",
       "      <td>45</td>\n",
       "    </tr>\n",
       "  </tbody>\n",
       "</table>\n",
       "<p>35065 rows × 27 columns</p>\n",
       "</div>"
      ],
      "text/plain": [
       "                     ZONEID   LOAD  w1  w2  w3  w4  w5  w6  w7  w8  ...  w16  \\\n",
       "TIMESTAMP                                                           ...        \n",
       "2001-01-01 01:00:00       1    NaN  27  28  18  23  25  27  26  26  ...   25   \n",
       "2001-01-01 02:00:00       1    NaN  25  28  18  23  24  24  26  24  ...   25   \n",
       "2001-01-01 03:00:00       1    NaN  27  23  18  24  23  24  23  23  ...   26   \n",
       "2001-01-01 04:00:00       1    NaN  25  21  19  24  23  24  22  23  ...   25   \n",
       "2001-01-01 05:00:00       1    NaN  27  21  19  22  23  24  22  22  ...   27   \n",
       "...                     ...    ...  ..  ..  ..  ..  ..  ..  ..  ..  ...  ...   \n",
       "2004-12-31 21:00:00       1    NaN  49  46  47  50  54  44  51  55  ...   56   \n",
       "2004-12-31 22:00:00       1    NaN  47  46  43  50  54  47  49  54  ...   54   \n",
       "2004-12-31 23:00:00       1    NaN  46  46  39  49  54  47  46  54  ...   53   \n",
       "2005-01-01 00:00:00       1    NaN  45  46  40  48  48  41  43  54  ...   54   \n",
       "2005-01-01 01:00:00       1  125.8  43  46  40  47  48  46  44  52  ...   50   \n",
       "\n",
       "                     w17  w18  w19  w20  w21  w22  w23  w24  w25  \n",
       "TIMESTAMP                                                         \n",
       "2001-01-01 01:00:00   23   25   27   27   29   30   25   26   27  \n",
       "2001-01-01 02:00:00   23   25   27   23   28   30   24   22   27  \n",
       "2001-01-01 03:00:00   24   21   27   25   29   28   24   23   25  \n",
       "2001-01-01 04:00:00   24   21   27   23   27   28   23   26   25  \n",
       "2001-01-01 05:00:00   22   21   27   25   27   28   23   25   27  \n",
       "...                  ...  ...  ...  ...  ...  ...  ...  ...  ...  \n",
       "2004-12-31 21:00:00   50   52   48   50   48   46   47   48   38  \n",
       "2004-12-31 22:00:00   46   52   46   48   48   46   48   48   40  \n",
       "2004-12-31 23:00:00   43   50   45   46   45   45   49   47   39  \n",
       "2005-01-01 00:00:00   43   49   46   50   44   43   47   49   41  \n",
       "2005-01-01 01:00:00   39   50   45   50   47   41   47   47   45  \n",
       "\n",
       "[35065 rows x 27 columns]"
      ]
     },
     "execution_count": 19,
     "metadata": {},
     "output_type": "execute_result"
    }
   ],
   "source": [
    "df[:35065]"
   ]
  },
  {
   "cell_type": "markdown",
   "metadata": {},
   "source": [
    "Start with the year 2005 (2001-2004 have `NaN` `LOAD` values):"
   ]
  },
  {
   "cell_type": "code",
   "execution_count": 20,
   "metadata": {
    "slideshow": {
     "slide_type": "-"
    }
   },
   "outputs": [],
   "source": [
    "new_idx = pd.date_range('2005-01-01 01:00:00', '2010-12-09 23:00:00', freq='1H')"
   ]
  },
  {
   "cell_type": "code",
   "execution_count": 21,
   "metadata": {},
   "outputs": [],
   "source": [
    "dfi = df[~df.index.duplicated(keep='first')].reindex(new_idx)"
   ]
  },
  {
   "cell_type": "code",
   "execution_count": 22,
   "metadata": {},
   "outputs": [
    {
     "data": {
      "text/plain": [
       "(True, True, <Hour>)"
      ]
     },
     "execution_count": 22,
     "metadata": {},
     "output_type": "execute_result"
    }
   ],
   "source": [
    "dfi.index.is_monotonic, dfi.index.is_unique, dfi.index.freq"
   ]
  },
  {
   "cell_type": "code",
   "execution_count": 23,
   "metadata": {},
   "outputs": [
    {
     "data": {
      "text/plain": [
       "(52055, 27)"
      ]
     },
     "execution_count": 23,
     "metadata": {},
     "output_type": "execute_result"
    }
   ],
   "source": [
    "dfi.shape"
   ]
  },
  {
   "cell_type": "code",
   "execution_count": 24,
   "metadata": {},
   "outputs": [
    {
     "data": {
      "text/plain": [
       "array([ 1., nan])"
      ]
     },
     "execution_count": 24,
     "metadata": {},
     "output_type": "execute_result"
    }
   ],
   "source": [
    "dfi.ZONEID.unique()"
   ]
  },
  {
   "cell_type": "markdown",
   "metadata": {},
   "source": [
    "*ZONEID* is uninformative."
   ]
  },
  {
   "cell_type": "code",
   "execution_count": 25,
   "metadata": {},
   "outputs": [],
   "source": [
    "dfi = dfi[['LOAD'] + [f'w{i}' for i in range(1,26)]]"
   ]
  },
  {
   "cell_type": "code",
   "execution_count": 26,
   "metadata": {},
   "outputs": [],
   "source": [
    "# for x in (dfi.index[i] for i in range(dfi.shape[0]) if dfi.iloc[i].isnull().LOAD):\n",
    "#     print(x)"
   ]
  },
  {
   "cell_type": "markdown",
   "metadata": {},
   "source": [
    "NaNs:\n",
    "- Januarys of 2005-2010\n",
    "- 2010 Oct, Nov"
   ]
  },
  {
   "cell_type": "markdown",
   "metadata": {},
   "source": [
    "Overall available data:\n",
    "* Feb-Dec of 2005-209\n",
    "* Feb-Sep of 2010"
   ]
  },
  {
   "cell_type": "code",
   "execution_count": 27,
   "metadata": {},
   "outputs": [],
   "source": [
    "dfs = [dfi.loc[f'{year}-2-1':f'{year}-12-31'] for year in ['2005', '2006', '2007', '2008', '2009']] + \\\n",
    "      [dfi.loc['2010-2-1':'2010-09-30']]"
   ]
  },
  {
   "cell_type": "code",
   "execution_count": 28,
   "metadata": {},
   "outputs": [],
   "source": [
    "assert len(dfs) == 6"
   ]
  },
  {
   "cell_type": "code",
   "execution_count": 29,
   "metadata": {},
   "outputs": [],
   "source": [
    "df05 = dfs[0]\n",
    "df06 = dfs[1]\n",
    "df07 = dfs[2]\n",
    "df08 = dfs[3]\n",
    "df09 = dfs[4]\n",
    "df10 = dfs[5]"
   ]
  },
  {
   "cell_type": "markdown",
   "metadata": {},
   "source": [
    "We'll use the features:\n",
    "- hour-of-day\n",
    "- day-of-week\n",
    "- day-of-year\n",
    "- temperatures *w1*-*w25*"
   ]
  },
  {
   "cell_type": "markdown",
   "metadata": {},
   "source": [
    "----"
   ]
  },
  {
   "cell_type": "markdown",
   "metadata": {},
   "source": [
    "### Data Module"
   ]
  },
  {
   "cell_type": "code",
   "execution_count": 30,
   "metadata": {},
   "outputs": [],
   "source": [
    "class ElectricityLoadDataset(Dataset):\n",
    "    \"\"\"Sample data from electricity load dataset.\"\"\"\n",
    "\n",
    "    def __init__(self, df, samples, hist_len=168, fct_len=24):\n",
    "        self.hist_num = hist_len\n",
    "        self.fct_num = fct_len\n",
    "        self.hist_len = pd.Timedelta(hours=hist_len)\n",
    "        self.fct_len = pd.Timedelta(hours=fct_len)\n",
    "        self.offset = pd.Timedelta(hours=1)\n",
    "        self.samples = samples\n",
    "\n",
    "        self.max_ts = df.index.max() - self.hist_len - self.fct_len + self.offset\n",
    "        self.raw_data = df.copy()\n",
    "\n",
    "        assert samples <= self.raw_data[:self.max_ts].shape[0]\n",
    "\n",
    "        self.sample()\n",
    "\n",
    "    def sample(self):\n",
    "        \"\"\"Sample individual series as needed.\"\"\"\n",
    "\n",
    "        nsamples = min(self.samples, self.raw_data.shape[0])\n",
    "        self.samples = (self.raw_data\n",
    "                        .loc[:self.max_ts]\n",
    "                        .index\n",
    "                        .to_series()\n",
    "                        .sample(nsamples, replace=False)\n",
    "                        .index\n",
    "                        .sort_values()) # sort values to avoid predicting on already-trained data\n",
    "\n",
    "        # Add calendar features\n",
    "        self.raw_data['yearly_cycle'] = np.sin(2 * np.pi * self.raw_data.index.dayofyear / 366)\n",
    "        self.raw_data['weekly_cycle'] = np.sin(2 * np.pi * self.raw_data.index.dayofweek / 7)\n",
    "        self.raw_data['daily_cycle'] = np.sin(2 * np.pi * self.raw_data.index.hour / 24)\n",
    "        self.calendar_features = ['yearly_cycle', 'weekly_cycle', 'daily_cycle']\n",
    "        self.temperature_features = [f'w{i}' for i in range(1,26)]\n",
    "\n",
    "    def __len__(self):\n",
    "        return self.samples.shape[0]\n",
    "\n",
    "    def __getitem__(self, idx):\n",
    "        start_ts = self.samples[idx]\n",
    "\n",
    "        hs, he = start_ts, start_ts + self.hist_len - self.offset\n",
    "        fs, fe = he + self.offset, he + self.fct_len\n",
    "\n",
    "        hist_data_in = self.raw_data.loc[hs:, self.temperature_features + self.calendar_features].iloc[:self.hist_num]\n",
    "        hist_data_out = self.raw_data.loc[hs:, ['LOAD']].iloc[:self.hist_num].LOAD\n",
    "        fct_data_in = self.raw_data.loc[fs:, self.temperature_features + self.calendar_features].iloc[:self.fct_num]\n",
    "        fct_data_out = self.raw_data.loc[fs:, ['LOAD']].iloc[:self.fct_num].LOAD\n",
    "\n",
    "        return (torch.Tensor(hist_data_in.values),\n",
    "                torch.Tensor(hist_data_out.values),\n",
    "                torch.Tensor(fct_data_in.values),\n",
    "                torch.Tensor(fct_data_out.values))"
   ]
  },
  {
   "cell_type": "code",
   "execution_count": 31,
   "metadata": {},
   "outputs": [],
   "source": [
    "ds = ElectricityLoadDataset(df05, 100)"
   ]
  },
  {
   "cell_type": "code",
   "execution_count": 32,
   "metadata": {},
   "outputs": [],
   "source": [
    "assert 100 == len(ds)"
   ]
  },
  {
   "cell_type": "code",
   "execution_count": 33,
   "metadata": {},
   "outputs": [],
   "source": [
    "x, y, x_f, y_f = ds[4]"
   ]
  },
  {
   "cell_type": "code",
   "execution_count": 34,
   "metadata": {},
   "outputs": [
    {
     "data": {
      "text/plain": [
       "(torch.Size([168, 28]), torch.Size([168]))"
      ]
     },
     "execution_count": 34,
     "metadata": {},
     "output_type": "execute_result"
    }
   ],
   "source": [
    "x.shape, y.shape"
   ]
  },
  {
   "cell_type": "code",
   "execution_count": 35,
   "metadata": {},
   "outputs": [
    {
     "data": {
      "text/plain": [
       "(torch.Size([24, 28]), torch.Size([24]))"
      ]
     },
     "execution_count": 35,
     "metadata": {},
     "output_type": "execute_result"
    }
   ],
   "source": [
    "x_f.shape, y_f.shape"
   ]
  },
  {
   "cell_type": "markdown",
   "metadata": {},
   "source": [
    "### Data Loader"
   ]
  },
  {
   "cell_type": "code",
   "execution_count": 36,
   "metadata": {},
   "outputs": [],
   "source": [
    "import random"
   ]
  },
  {
   "cell_type": "code",
   "execution_count": 37,
   "metadata": {},
   "outputs": [],
   "source": [
    "class ElectricityLoadDataModule(pl.LightningDataModule):\n",
    "    \"\"\"DataModule for electricity data.\"\"\"\n",
    "\n",
    "    def __init__(self,\n",
    "                 train_dfs,\n",
    "                 val_df,\n",
    "                 test_df,\n",
    "                 train_samples=100,\n",
    "                 val_samples=100,\n",
    "                 test_samples=100,\n",
    "                 batch_size=64,\n",
    "                 workers=0):\n",
    "\n",
    "        super().__init__()\n",
    "\n",
    "        self.raw_trains = train_dfs\n",
    "        self.raw_val = val_df\n",
    "        self.raw_test = test_df\n",
    "        \n",
    "        self.train_samples = train_samples\n",
    "        self.val_samples = val_samples\n",
    "        self.test_samples = test_samples\n",
    "\n",
    "        self.batch_size = batch_size\n",
    "        self.workers = workers\n",
    "\n",
    "    def setup(self, stage=None):\n",
    "        if stage == 'fit' or stage is None:\n",
    "            self.train_ds = [\n",
    "                ElectricityLoadDataset(raw_train,\n",
    "                                       samples=self.train_samples) for raw_train in self.raw_trains\n",
    "            ]\n",
    "            self.val_ds = ElectricityLoadDataset(self.raw_val,\n",
    "                                                 samples=self.val_samples)\n",
    "\n",
    "        if stage == 'test' or stage is None:\n",
    "            self.test_ds = ElectricityLoadDataset(self.raw_test,\n",
    "                                                  samples=self.test_samples)\n",
    "    \n",
    "    def train_dataloader(self):\n",
    "#         current_loader = self.train_ds[self.current_epoch % len(self.train_ds)]\n",
    "        current_loader = random.choice(self.train_ds)\n",
    "        return DataLoader(current_loader, batch_size=self.batch_size, num_workers=self.workers)\n",
    "\n",
    "    def val_dataloader(self):\n",
    "        return DataLoader(self.val_ds, batch_size=self.batch_size, num_workers=self.workers)\n",
    "\n",
    "    def test_dataloader(self):\n",
    "        return DataLoader(self.test_ds, batch_size=self.batch_size, num_workers=self.workers)"
   ]
  },
  {
   "cell_type": "code",
   "execution_count": 38,
   "metadata": {},
   "outputs": [],
   "source": [
    "dm = ElectricityLoadDataModule([df05], df05, df05)\n",
    "dm.setup()"
   ]
  },
  {
   "cell_type": "code",
   "execution_count": 39,
   "metadata": {},
   "outputs": [],
   "source": [
    "x, y, x_f, y_f = next(iter(dm.train_dataloader()))"
   ]
  },
  {
   "cell_type": "code",
   "execution_count": 40,
   "metadata": {},
   "outputs": [
    {
     "data": {
      "text/plain": [
       "(torch.Size([64, 168, 28]), torch.Size([64, 168]))"
      ]
     },
     "execution_count": 40,
     "metadata": {},
     "output_type": "execute_result"
    }
   ],
   "source": [
    "x.shape, y.shape"
   ]
  },
  {
   "cell_type": "code",
   "execution_count": 41,
   "metadata": {},
   "outputs": [
    {
     "data": {
      "text/plain": [
       "(torch.Size([64, 24, 28]), torch.Size([64, 24]))"
      ]
     },
     "execution_count": 41,
     "metadata": {},
     "output_type": "execute_result"
    }
   ],
   "source": [
    "x_f.shape, y_f.shape"
   ]
  },
  {
   "cell_type": "markdown",
   "metadata": {},
   "source": [
    "##### Training"
   ]
  },
  {
   "cell_type": "code",
   "execution_count": 42,
   "metadata": {},
   "outputs": [],
   "source": [
    "mean05 = df05[df05!=0].mean()"
   ]
  },
  {
   "cell_type": "code",
   "execution_count": 43,
   "metadata": {},
   "outputs": [],
   "source": [
    "scaled05 = df05 / mean05 - 1\n",
    "scaled06 = df06 / mean05 - 1\n",
    "scaled07 = df07 / mean05 - 1\n",
    "scaled08 = df08 / mean05 - 1\n",
    "scaled09 = df09 / mean05 - 1\n",
    "scaled10 = df10 / mean05 - 1"
   ]
  },
  {
   "cell_type": "code",
   "execution_count": 44,
   "metadata": {
    "scrolled": false
   },
   "outputs": [
    {
     "name": "stderr",
     "output_type": "stream",
     "text": [
      "GPU available: True, used: True\n",
      "TPU available: None, using: 0 TPU cores\n",
      "\n",
      "  | Name    | Type    | Params\n",
      "------------------------------------\n",
      "0 | encoder | Encoder | 8.1 K \n",
      "1 | decoder | Decoder | 1.2 M \n",
      "------------------------------------\n",
      "1.2 M     Trainable params\n",
      "0         Non-trainable params\n",
      "1.2 M     Total params\n",
      "4.645     Total estimated model params size (MB)\n"
     ]
    },
    {
     "name": "stdout",
     "output_type": "stream",
     "text": [
      "Epoch 0:  89%|▉| 8/9 [00:06<00:00,  1.28it/s, loss=0.499, v_num=29, val_logprob\n",
      "Validating: 0it [00:00, ?it/s]\u001b[A\n",
      "Validating:   0%|                                        | 0/1 [00:00<?, ?it/s]\u001b[A\n",
      "Epoch 0: 100%|█| 9/9 [00:06<00:00,  1.30it/s, loss=0.499, v_num=29, val_logprob\u001b[A\n",
      "Epoch 1:  89%|▉| 8/9 [00:05<00:00,  1.34it/s, loss=0.452, v_num=29, val_logprob\u001b[A\n",
      "Validating: 0it [00:00, ?it/s]\u001b[A\n",
      "Validating:   0%|                                        | 0/1 [00:00<?, ?it/s]\u001b[A\n",
      "Epoch 1: 100%|█| 9/9 [00:06<00:00,  1.35it/s, loss=0.452, v_num=29, val_logprob\u001b[A\n",
      "Epoch 2:  89%|▉| 8/9 [00:05<00:00,  1.34it/s, loss=0.383, v_num=29, val_logprob\u001b[A\n",
      "Validating: 0it [00:00, ?it/s]\u001b[A\n",
      "Validating:   0%|                                        | 0/1 [00:00<?, ?it/s]\u001b[A\n",
      "Epoch 2: 100%|█| 9/9 [00:06<00:00,  1.35it/s, loss=0.383, v_num=29, val_logprob\u001b[A\n",
      "Epoch 3:  89%|▉| 8/9 [00:05<00:00,  1.37it/s, loss=0.342, v_num=29, val_logprob\u001b[A\n",
      "Validating: 0it [00:00, ?it/s]\u001b[A\n",
      "Validating:   0%|                                        | 0/1 [00:00<?, ?it/s]\u001b[A\n",
      "Epoch 3: 100%|█| 9/9 [00:06<00:00,  1.38it/s, loss=0.342, v_num=29, val_logprob\u001b[A\n",
      "Epoch 4:  89%|▉| 8/9 [00:05<00:00,  1.35it/s, loss=0.297, v_num=29, val_logprob\u001b[A\n",
      "Validating: 0it [00:00, ?it/s]\u001b[A\n",
      "Validating:   0%|                                        | 0/1 [00:00<?, ?it/s]\u001b[A\n",
      "Epoch 4: 100%|█| 9/9 [00:06<00:00,  1.36it/s, loss=0.297, v_num=29, val_logprob\u001b[A\n",
      "Epoch 5:  89%|▉| 8/9 [00:06<00:00,  1.31it/s, loss=0.294, v_num=29, val_logprob\u001b[A\n",
      "Validating: 0it [00:00, ?it/s]\u001b[A\n",
      "Validating:   0%|                                        | 0/1 [00:00<?, ?it/s]\u001b[A\n",
      "Epoch 5: 100%|█| 9/9 [00:06<00:00,  1.32it/s, loss=0.294, v_num=29, val_logprob\u001b[A\n",
      "Epoch 6:  89%|▉| 8/9 [00:06<00:00,  1.31it/s, loss=0.264, v_num=29, val_logprob\u001b[A\n",
      "Validating: 0it [00:00, ?it/s]\u001b[A\n",
      "Validating:   0%|                                        | 0/1 [00:00<?, ?it/s]\u001b[A\n",
      "Epoch 6: 100%|█| 9/9 [00:06<00:00,  1.32it/s, loss=0.264, v_num=29, val_logprob\u001b[A\n",
      "Epoch 7:  89%|▉| 8/9 [00:06<00:00,  1.33it/s, loss=0.247, v_num=29, val_logprob\u001b[A\n",
      "Validating: 0it [00:00, ?it/s]\u001b[A\n",
      "Validating:   0%|                                        | 0/1 [00:00<?, ?it/s]\u001b[A\n",
      "Epoch 7: 100%|█| 9/9 [00:06<00:00,  1.34it/s, loss=0.247, v_num=29, val_logprob\u001b[A\n",
      "Epoch 8:  89%|▉| 8/9 [00:06<00:00,  1.31it/s, loss=0.218, v_num=29, val_logprob\u001b[A\n",
      "Validating: 0it [00:00, ?it/s]\u001b[A\n",
      "Validating:   0%|                                        | 0/1 [00:00<?, ?it/s]\u001b[A\n",
      "Epoch 8: 100%|█| 9/9 [00:06<00:00,  1.33it/s, loss=0.218, v_num=29, val_logprob\u001b[A\n",
      "Epoch 9:  89%|▉| 8/9 [00:05<00:00,  1.33it/s, loss=0.2, v_num=29, val_logprob=0\u001b[A\n",
      "Validating: 0it [00:00, ?it/s]\u001b[A\n",
      "Validating:   0%|                                        | 0/1 [00:00<?, ?it/s]\u001b[A\n",
      "Epoch 9: 100%|█| 9/9 [00:06<00:00,  1.35it/s, loss=0.2, v_num=29, val_logprob=0\u001b[A\n",
      "Epoch 10:  89%|▉| 8/9 [00:06<00:00,  1.30it/s, loss=0.19, v_num=29, val_logprob\u001b[A\n",
      "Validating: 0it [00:00, ?it/s]\u001b[A\n",
      "Validating:   0%|                                        | 0/1 [00:00<?, ?it/s]\u001b[A\n",
      "Epoch 10: 100%|█| 9/9 [00:06<00:00,  1.32it/s, loss=0.19, v_num=29, val_logprob\u001b[A\n",
      "Epoch 11:  89%|▉| 8/9 [00:05<00:00,  1.36it/s, loss=0.191, v_num=29, val_logpro\u001b[A\n",
      "Validating: 0it [00:00, ?it/s]\u001b[A\n",
      "Validating:   0%|                                        | 0/1 [00:00<?, ?it/s]\u001b[A\n",
      "Epoch 11: 100%|█| 9/9 [00:06<00:00,  1.37it/s, loss=0.191, v_num=29, val_logpro\u001b[A\n",
      "Epoch 12:  89%|▉| 8/9 [00:06<00:00,  1.31it/s, loss=0.192, v_num=29, val_logpro\u001b[A\n",
      "Validating: 0it [00:00, ?it/s]\u001b[A\n",
      "Validating:   0%|                                        | 0/1 [00:00<?, ?it/s]\u001b[A\n",
      "Epoch 12: 100%|█| 9/9 [00:06<00:00,  1.33it/s, loss=0.192, v_num=29, val_logpro\u001b[A\n",
      "Epoch 13:  89%|▉| 8/9 [00:06<00:00,  1.31it/s, loss=0.187, v_num=29, val_logpro\u001b[A\n",
      "Validating: 0it [00:00, ?it/s]\u001b[A\n",
      "Validating:   0%|                                        | 0/1 [00:00<?, ?it/s]\u001b[A\n",
      "Epoch 13: 100%|█| 9/9 [00:06<00:00,  1.33it/s, loss=0.187, v_num=29, val_logpro\u001b[A\n",
      "Epoch 14:  89%|▉| 8/9 [00:06<00:00,  1.25it/s, loss=0.176, v_num=29, val_logpro\u001b[A\n",
      "Validating: 0it [00:00, ?it/s]\u001b[A\n",
      "Validating:   0%|                                        | 0/1 [00:00<?, ?it/s]\u001b[A\n",
      "Epoch 14: 100%|█| 9/9 [00:07<00:00,  1.26it/s, loss=0.176, v_num=29, val_logpro\u001b[A\n",
      "Epoch 15:  89%|▉| 8/9 [00:06<00:00,  1.26it/s, loss=0.171, v_num=29, val_logpro\u001b[A\n",
      "Validating: 0it [00:00, ?it/s]\u001b[A\n",
      "Validating:   0%|                                        | 0/1 [00:00<?, ?it/s]\u001b[A\n",
      "Epoch 15: 100%|█| 9/9 [00:07<00:00,  1.28it/s, loss=0.171, v_num=29, val_logpro\u001b[A\n",
      "Epoch 16:  89%|▉| 8/9 [00:06<00:00,  1.30it/s, loss=0.179, v_num=29, val_logpro\u001b[A\n",
      "Validating: 0it [00:00, ?it/s]\u001b[A\n",
      "Validating:   0%|                                        | 0/1 [00:00<?, ?it/s]\u001b[A\n",
      "Epoch 16: 100%|█| 9/9 [00:06<00:00,  1.31it/s, loss=0.179, v_num=29, val_logpro\u001b[A\n",
      "Epoch 17:  89%|▉| 8/9 [00:06<00:00,  1.30it/s, loss=0.187, v_num=29, val_logpro\u001b[A\n",
      "Validating: 0it [00:00, ?it/s]\u001b[A\n",
      "Validating:   0%|                                        | 0/1 [00:00<?, ?it/s]\u001b[A\n",
      "Epoch 17: 100%|█| 9/9 [00:06<00:00,  1.30it/s, loss=0.187, v_num=29, val_logpro\u001b[A\n",
      "Epoch 18:  89%|▉| 8/9 [00:06<00:00,  1.29it/s, loss=0.18, v_num=29, val_logprob\u001b[A\n",
      "Validating: 0it [00:00, ?it/s]\u001b[A\n",
      "Validating:   0%|                                        | 0/1 [00:00<?, ?it/s]\u001b[A\n",
      "Epoch 18: 100%|█| 9/9 [00:06<00:00,  1.31it/s, loss=0.18, v_num=29, val_logprob\u001b[A\n",
      "Epoch 19:  89%|▉| 8/9 [00:06<00:00,  1.32it/s, loss=0.175, v_num=29, val_logpro\u001b[A\n",
      "Validating: 0it [00:00, ?it/s]\u001b[A\n",
      "Validating:   0%|                                        | 0/1 [00:00<?, ?it/s]\u001b[A\n",
      "Epoch 19: 100%|█| 9/9 [00:06<00:00,  1.33it/s, loss=0.175, v_num=29, val_logpro\u001b[A\n",
      "Epoch 20:  89%|▉| 8/9 [00:06<00:00,  1.33it/s, loss=0.171, v_num=29, val_logpro\u001b[A\n",
      "Validating: 0it [00:00, ?it/s]\u001b[A\n",
      "Validating:   0%|                                        | 0/1 [00:00<?, ?it/s]\u001b[A\n",
      "Epoch 20: 100%|█| 9/9 [00:06<00:00,  1.34it/s, loss=0.171, v_num=29, val_logpro\u001b[A\n",
      "Epoch 21:  89%|▉| 8/9 [00:05<00:00,  1.34it/s, loss=0.171, v_num=29, val_logpro\u001b[A\n",
      "Validating: 0it [00:00, ?it/s]\u001b[A\n",
      "Validating:   0%|                                        | 0/1 [00:00<?, ?it/s]\u001b[A\n",
      "Epoch 21: 100%|█| 9/9 [00:06<00:00,  1.35it/s, loss=0.171, v_num=29, val_logpro\u001b[A\n",
      "Epoch 22:  89%|▉| 8/9 [00:06<00:00,  1.33it/s, loss=0.165, v_num=29, val_logpro\u001b[A\n",
      "Validating: 0it [00:00, ?it/s]\u001b[A\n",
      "Validating:   0%|                                        | 0/1 [00:00<?, ?it/s]\u001b[A\n",
      "Epoch 22: 100%|█| 9/9 [00:06<00:00,  1.35it/s, loss=0.165, v_num=29, val_logpro\u001b[A\n",
      "Epoch 23:  89%|▉| 8/9 [00:06<00:00,  1.33it/s, loss=0.15, v_num=29, val_logprob\u001b[A\n",
      "Validating: 0it [00:00, ?it/s]\u001b[A\n",
      "Validating:   0%|                                        | 0/1 [00:00<?, ?it/s]\u001b[A\n",
      "Epoch 23: 100%|█| 9/9 [00:06<00:00,  1.33it/s, loss=0.15, v_num=29, val_logprob\u001b[A\n",
      "Epoch 24:  89%|▉| 8/9 [00:06<00:00,  1.32it/s, loss=0.152, v_num=29, val_logpro\u001b[A\n",
      "Validating: 0it [00:00, ?it/s]\u001b[A\n",
      "Validating:   0%|                                        | 0/1 [00:00<?, ?it/s]\u001b[A\n",
      "Epoch 24: 100%|█| 9/9 [00:06<00:00,  1.34it/s, loss=0.152, v_num=29, val_logpro\u001b[A\n",
      "Epoch 25:  89%|▉| 8/9 [00:06<00:00,  1.30it/s, loss=0.152, v_num=29, val_logpro\u001b[A\n",
      "Validating: 0it [00:00, ?it/s]\u001b[A\n",
      "Validating:   0%|                                        | 0/1 [00:00<?, ?it/s]\u001b[A\n",
      "Epoch 25: 100%|█| 9/9 [00:06<00:00,  1.32it/s, loss=0.152, v_num=29, val_logpro\u001b[A\n",
      "Epoch 26:  89%|▉| 8/9 [00:06<00:00,  1.33it/s, loss=0.143, v_num=29, val_logpro\u001b[A\n",
      "Validating: 0it [00:00, ?it/s]\u001b[A\n",
      "Validating:   0%|                                        | 0/1 [00:00<?, ?it/s]\u001b[A\n",
      "Epoch 26: 100%|█| 9/9 [00:06<00:00,  1.35it/s, loss=0.143, v_num=29, val_logpro\u001b[A\n",
      "Epoch 27:  89%|▉| 8/9 [00:06<00:00,  1.31it/s, loss=0.134, v_num=29, val_logpro\u001b[A\n",
      "Validating: 0it [00:00, ?it/s]\u001b[A\n",
      "Validating:   0%|                                        | 0/1 [00:00<?, ?it/s]\u001b[A\n",
      "Epoch 27: 100%|█| 9/9 [00:06<00:00,  1.33it/s, loss=0.134, v_num=29, val_logpro\u001b[A\n",
      "Epoch 28:  89%|▉| 8/9 [00:05<00:00,  1.34it/s, loss=0.13, v_num=29, val_logprob\u001b[A\n",
      "Validating: 0it [00:00, ?it/s]\u001b[A\n",
      "Validating:   0%|                                        | 0/1 [00:00<?, ?it/s]\u001b[A\n"
     ]
    },
    {
     "name": "stdout",
     "output_type": "stream",
     "text": [
      "Epoch 28: 100%|█| 9/9 [00:06<00:00,  1.35it/s, loss=0.13, v_num=29, val_logprob\u001b[A\n",
      "Epoch 29:  89%|▉| 8/9 [00:05<00:00,  1.34it/s, loss=0.145, v_num=29, val_logpro\u001b[A\n",
      "Validating: 0it [00:00, ?it/s]\u001b[A\n",
      "Validating:   0%|                                        | 0/1 [00:00<?, ?it/s]\u001b[A\n",
      "Epoch 29: 100%|█| 9/9 [00:06<00:00,  1.36it/s, loss=0.145, v_num=29, val_logpro\u001b[A\n",
      "Epoch 29: 100%|█| 9/9 [00:06<00:00,  1.34it/s, loss=0.145, v_num=29, val_logpro\u001b[A\n"
     ]
    },
    {
     "data": {
      "text/plain": [
       "1"
      ]
     },
     "execution_count": 44,
     "metadata": {},
     "output_type": "execute_result"
    }
   ],
   "source": [
    "train_dfs = [scaled05, scaled06, scaled07, scaled08]\n",
    "dm = ElectricityLoadDataModule(train_dfs=train_dfs, val_df=scaled09, test_df=scaled10, train_samples=1000, batch_size=128)\n",
    "model = MQRNN(hist_len=168, fct_len=24, input_size=28, num_layers=1, hidden_units=32, quantiles=[0.1, 0.5, 0.9], lr=1e-3)\n",
    "trainer = pl.Trainer(max_epochs=30, progress_bar_refresh_rate=1, reload_dataloaders_every_epoch=True, gpus=1)\n",
    "trainer.fit(model, dm)"
   ]
  },
  {
   "cell_type": "markdown",
   "metadata": {},
   "source": [
    "---"
   ]
  },
  {
   "cell_type": "markdown",
   "metadata": {},
   "source": [
    "#### Example forecasts\n",
    "\n",
    "Although the model must be trained in full longer and with larger number of layers, we still can capture the logistics of making the forecasts:"
   ]
  },
  {
   "cell_type": "code",
   "execution_count": 45,
   "metadata": {},
   "outputs": [],
   "source": [
    "dm.setup(stage=\"test\")"
   ]
  },
  {
   "cell_type": "code",
   "execution_count": 46,
   "metadata": {},
   "outputs": [],
   "source": [
    "batch = next(iter(dm.test_dataloader()))"
   ]
  },
  {
   "cell_type": "code",
   "execution_count": 77,
   "metadata": {},
   "outputs": [],
   "source": [
    "INDEX = 3"
   ]
  },
  {
   "cell_type": "code",
   "execution_count": 147,
   "metadata": {},
   "outputs": [],
   "source": [
    "INDEX = 10"
   ]
  },
  {
   "cell_type": "code",
   "execution_count": 167,
   "metadata": {},
   "outputs": [],
   "source": [
    "INDEX = 12"
   ]
  },
  {
   "cell_type": "code",
   "execution_count": 168,
   "metadata": {},
   "outputs": [],
   "source": [
    "x, y, xf, yf = batch"
   ]
  },
  {
   "cell_type": "code",
   "execution_count": 169,
   "metadata": {},
   "outputs": [
    {
     "data": {
      "text/plain": [
       "(torch.Size([100, 168, 28]),\n",
       " torch.Size([100, 168]),\n",
       " torch.Size([100, 24, 28]),\n",
       " torch.Size([100, 24]))"
      ]
     },
     "execution_count": 169,
     "metadata": {},
     "output_type": "execute_result"
    }
   ],
   "source": [
    "x.shape, y.shape, xf.shape, yf.shape"
   ]
  },
  {
   "cell_type": "code",
   "execution_count": 170,
   "metadata": {},
   "outputs": [],
   "source": [
    "x = x[INDEX].unsqueeze(0)\n",
    "y = y[INDEX].unsqueeze(0)\n",
    "xf = xf[INDEX].unsqueeze(0)\n",
    "yf = yf[INDEX].unsqueeze(0)"
   ]
  },
  {
   "cell_type": "code",
   "execution_count": 171,
   "metadata": {},
   "outputs": [
    {
     "data": {
      "text/plain": [
       "(torch.Size([1, 168, 28]),\n",
       " torch.Size([1, 168]),\n",
       " torch.Size([1, 24, 28]),\n",
       " torch.Size([1, 24]))"
      ]
     },
     "execution_count": 171,
     "metadata": {},
     "output_type": "execute_result"
    }
   ],
   "source": [
    "x.shape, y.shape, xf.shape, yf.shape"
   ]
  },
  {
   "cell_type": "code",
   "execution_count": 172,
   "metadata": {},
   "outputs": [],
   "source": [
    "preds = model(x, y, xf)"
   ]
  },
  {
   "cell_type": "code",
   "execution_count": 173,
   "metadata": {},
   "outputs": [
    {
     "data": {
      "text/plain": [
       "torch.Size([1, 24, 3])"
      ]
     },
     "execution_count": 173,
     "metadata": {},
     "output_type": "execute_result"
    }
   ],
   "source": [
    "preds.shape"
   ]
  },
  {
   "cell_type": "code",
   "execution_count": 174,
   "metadata": {},
   "outputs": [
    {
     "data": {
      "text/plain": [
       "torch.Size([24])"
      ]
     },
     "execution_count": 174,
     "metadata": {},
     "output_type": "execute_result"
    }
   ],
   "source": [
    "preds[0].mean(dim=-1).shape"
   ]
  },
  {
   "cell_type": "code",
   "execution_count": 175,
   "metadata": {},
   "outputs": [
    {
     "data": {
      "text/plain": [
       "torch.Size([24])"
      ]
     },
     "execution_count": 175,
     "metadata": {},
     "output_type": "execute_result"
    }
   ],
   "source": [
    "yf[0].shape"
   ]
  },
  {
   "cell_type": "code",
   "execution_count": 176,
   "metadata": {},
   "outputs": [
    {
     "data": {
      "image/png": "[encoded data removed]",
      "text/plain": [
       "<Figure size 432x432 with 1 Axes>"
      ]
     },
     "metadata": {
      "needs_background": "light"
     },
     "output_type": "display_data"
    }
   ],
   "source": [
    "plt.plot(yf[0].numpy(), color='red', label='ground-truth')\n",
    "plt.plot(preds[0].mean(dim=-1).detach().numpy(), color='blue', label='prediction')\n",
    "plt.legend()\n",
    "plt.xticks(np.arange(24))\n",
    "plt.show()"
   ]
  }
 ],
 "metadata": {
  "kernelspec": {
   "display_name": "mqrnn",
   "language": "python",
   "name": "mqrnn"
  },
  "language_info": {
   "codemirror_mode": {
    "name": "ipython",
    "version": 3
   },
   "file_extension": ".py",
   "mimetype": "text/x-python",
   "name": "python",
   "nbconvert_exporter": "python",
   "pygments_lexer": "ipython3",
   "version": "3.8.8"
  }
 },
 "nbformat": 4,
 "nbformat_minor": 4
}
